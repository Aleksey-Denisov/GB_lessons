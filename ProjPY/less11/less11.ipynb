{
 "cells": [
  {
   "cell_type": "code",
   "execution_count": 1,
   "id": "2ac5e27a",
   "metadata": {},
   "outputs": [],
   "source": [
    "import numpy as np"
   ]
  },
  {
   "cell_type": "code",
   "execution_count": 2,
   "id": "dcd24c5c",
   "metadata": {},
   "outputs": [
    {
     "name": "stdout",
     "output_type": "stream",
     "text": [
      "[[79 16 54 84 72]\n",
      " [68 97 20 60 98]\n",
      " [81 16 65 93 80]\n",
      " [60 97 14 25 51]\n",
      " [26 40 81 16 32]]\n"
     ]
    }
   ],
   "source": [
    "array1 = np.random.randint(1, 100, (5, 5))\n",
    "print(array1)"
   ]
  },
  {
   "cell_type": "code",
   "execution_count": 3,
   "id": "221db645",
   "metadata": {},
   "outputs": [
    {
     "name": "stdout",
     "output_type": "stream",
     "text": [
      "[2.  2.5 3.  3.5 4. ]\n"
     ]
    }
   ],
   "source": [
    "array2 = np.linspace(2,4,5)\n",
    "print(array2)"
   ]
  },
  {
   "cell_type": "code",
   "execution_count": 4,
   "id": "8a85dcdd",
   "metadata": {},
   "outputs": [
    {
     "data": {
      "text/plain": [
       "array([[77. , 13.5, 51. , 80.5, 68. ],\n",
       "       [66. , 94.5, 17. , 56.5, 94. ],\n",
       "       [79. , 13.5, 62. , 89.5, 76. ],\n",
       "       [58. , 94.5, 11. , 21.5, 47. ],\n",
       "       [24. , 37.5, 78. , 12.5, 28. ]])"
      ]
     },
     "execution_count": 4,
     "metadata": {},
     "output_type": "execute_result"
    }
   ],
   "source": [
    "np.subtract(array1,array2)"
   ]
  },
  {
   "cell_type": "code",
   "execution_count": 5,
   "id": "5a13199d",
   "metadata": {},
   "outputs": [
    {
     "data": {
      "text/plain": [
       "array([[ 81. ,  18.5,  57. ,  87.5,  76. ],\n",
       "       [ 70. ,  99.5,  23. ,  63.5, 102. ],\n",
       "       [ 83. ,  18.5,  68. ,  96.5,  84. ],\n",
       "       [ 62. ,  99.5,  17. ,  28.5,  55. ],\n",
       "       [ 28. ,  42.5,  84. ,  19.5,  36. ]])"
      ]
     },
     "execution_count": 5,
     "metadata": {},
     "output_type": "execute_result"
    }
   ],
   "source": [
    "np.add(array1,array2)"
   ]
  },
  {
   "cell_type": "code",
   "execution_count": 6,
   "id": "784a001c",
   "metadata": {},
   "outputs": [
    {
     "data": {
      "text/plain": [
       "array([[39.5       ,  6.4       , 18.        , 24.        , 18.        ],\n",
       "       [34.        , 38.8       ,  6.66666667, 17.14285714, 24.5       ],\n",
       "       [40.5       ,  6.4       , 21.66666667, 26.57142857, 20.        ],\n",
       "       [30.        , 38.8       ,  4.66666667,  7.14285714, 12.75      ],\n",
       "       [13.        , 16.        , 27.        ,  4.57142857,  8.        ]])"
      ]
     },
     "execution_count": 6,
     "metadata": {},
     "output_type": "execute_result"
    }
   ],
   "source": [
    "np.divide(array1,array2)"
   ]
  },
  {
   "cell_type": "code",
   "execution_count": 7,
   "id": "6c8aa711",
   "metadata": {},
   "outputs": [
    {
     "data": {
      "text/plain": [
       "array([[158. ,  40. , 162. , 294. , 288. ],\n",
       "       [136. , 242.5,  60. , 210. , 392. ],\n",
       "       [162. ,  40. , 195. , 325.5, 320. ],\n",
       "       [120. , 242.5,  42. ,  87.5, 204. ],\n",
       "       [ 52. , 100. , 243. ,  56. , 128. ]])"
      ]
     },
     "execution_count": 7,
     "metadata": {},
     "output_type": "execute_result"
    }
   ],
   "source": [
    "np.multiply(array1,array2)"
   ]
  },
  {
   "cell_type": "code",
   "execution_count": 8,
   "id": "7e8cdae1",
   "metadata": {},
   "outputs": [
    {
     "data": {
      "text/plain": [
       "array([81, 97, 81, 93, 98])"
      ]
     },
     "execution_count": 8,
     "metadata": {},
     "output_type": "execute_result"
    }
   ],
   "source": [
    "array1.max(axis=0)"
   ]
  },
  {
   "cell_type": "code",
   "execution_count": 9,
   "id": "2add1a45",
   "metadata": {},
   "outputs": [
    {
     "data": {
      "text/plain": [
       "array([84, 98, 93, 97, 81])"
      ]
     },
     "execution_count": 9,
     "metadata": {},
     "output_type": "execute_result"
    }
   ],
   "source": [
    "array1.max(axis=1)"
   ]
  },
  {
   "cell_type": "code",
   "execution_count": 10,
   "id": "0347c5b2",
   "metadata": {},
   "outputs": [
    {
     "data": {
      "text/plain": [
       "98"
      ]
     },
     "execution_count": 10,
     "metadata": {},
     "output_type": "execute_result"
    }
   ],
   "source": [
    "array1.max()"
   ]
  },
  {
   "cell_type": "code",
   "execution_count": 11,
   "id": "b1089347",
   "metadata": {},
   "outputs": [
    {
     "data": {
      "text/plain": [
       "4.0"
      ]
     },
     "execution_count": 11,
     "metadata": {},
     "output_type": "execute_result"
    }
   ],
   "source": [
    "array2.max()"
   ]
  },
  {
   "cell_type": "code",
   "execution_count": 12,
   "id": "558883f6",
   "metadata": {},
   "outputs": [
    {
     "name": "stdout",
     "output_type": "stream",
     "text": [
      "[[2.  2.5 3.  3.5 4. ]\n",
      " [2.  2.5 3.  3.5 4. ]\n",
      " [2.  2.5 3.  3.5 4. ]\n",
      " [2.  2.5 3.  3.5 4. ]\n",
      " [2.  2.5 3.  3.5 4. ]]\n"
     ]
    }
   ],
   "source": [
    "array2 = np.resize(array2,(5,5))\n",
    "print(array2)"
   ]
  }
 ],
 "metadata": {
  "kernelspec": {
   "display_name": "Python 3 (ipykernel)",
   "language": "python",
   "name": "python3"
  },
  "language_info": {
   "codemirror_mode": {
    "name": "ipython",
    "version": 3
   },
   "file_extension": ".py",
   "mimetype": "text/x-python",
   "name": "python",
   "nbconvert_exporter": "python",
   "pygments_lexer": "ipython3",
   "version": "3.9.13"
  }
 },
 "nbformat": 4,
 "nbformat_minor": 5
}
